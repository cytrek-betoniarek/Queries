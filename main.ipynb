{
 "cells": [
  {
   "cell_type": "code",
   "execution_count": 1,
   "id": "caac4054-a7c9-4d4a-8518-63c121d12269",
   "metadata": {
    "tags": []
   },
   "outputs": [],
   "source": [
    "import pandas as pd\n",
    "import numpy as np"
   ]
  },
  {
   "cell_type": "code",
   "execution_count": 2,
   "id": "6a145839-9418-419e-a207-5a40341ccc83",
   "metadata": {
    "tags": []
   },
   "outputs": [],
   "source": [
    "Posts = pd.read_csv(\"travel_stackexchange/Posts.csv.gz\", compression = 'gzip')\n",
    "Users = pd.read_csv(\"travel_stackexchange/Users.csv.gz\", compression = 'gzip')\n",
    "Comments = pd.read_csv(\"travel_stackexchange/Comments.csv.gz\", compression = 'gzip')\n",
    "Badges = pd.read_csv(\"travel_stackexchange/Badges.csv.gz\", compression = 'gzip')"
   ]
  },
  {
   "cell_type": "code",
   "execution_count": 3,
   "id": "f41d59a8-77b4-4ea2-9a50-be89b03dfa9d",
   "metadata": {
    "tags": []
   },
   "outputs": [],
   "source": [
    "import os, os.path\n",
    "import sqlite3"
   ]
  },
  {
   "cell_type": "code",
   "execution_count": 4,
   "id": "bded8bdd-b7f3-4620-ae53-9b4194bfc509",
   "metadata": {
    "tags": []
   },
   "outputs": [],
   "source": [
    "baza = os.path.join('example.db')\n",
    "if os.path.isfile(baza):\n",
    "    os.remove(baza)"
   ]
  },
  {
   "cell_type": "code",
   "execution_count": 5,
   "id": "64292b56-c29e-4ff2-94f9-2119400301c7",
   "metadata": {
    "tags": []
   },
   "outputs": [
    {
     "data": {
      "text/plain": [
       "108812"
      ]
     },
     "execution_count": 5,
     "metadata": {},
     "output_type": "execute_result"
    }
   ],
   "source": [
    "conn = sqlite3.connect(baza)\n",
    "\n",
    "Posts.to_sql(\"Posts\", conn)\n",
    "Users.to_sql(\"Users\", conn)\n",
    "Comments.to_sql(\"Comments\", conn)\n",
    "Badges.to_sql(\"Badges\", conn)"
   ]
  },
  {
   "cell_type": "code",
   "execution_count": 6,
   "id": "a69a36cd-f2e0-44ae-8757-85eaa4aacc07",
   "metadata": {
    "tags": []
   },
   "outputs": [],
   "source": [
    "# own function to comparing dataframes since method \"equals\" from pandas did not cooperate\n",
    "def my_equals(df1, df2):\n",
    "    if type(df1)!=type(df2):\n",
    "        return False\n",
    "    if df1.columns.equals(df2.columns) == False:\n",
    "        return False\n",
    "    if df1.dtypes.equals(df2.dtypes) == False:\n",
    "        return False\n",
    "    if df1.shape != df2.shape:\n",
    "        return False\n",
    "    \n",
    "    values_comparision = df1.values == df2.values\n",
    "    for row in values_comparision:\n",
    "        if not all(cell for cell in row):\n",
    "            return False\n",
    "        \n",
    "    return True"
   ]
  },
  {
   "cell_type": "markdown",
   "id": "919ee2ed-0f04-41b2-8f49-8ea4be97e0c1",
   "metadata": {
    "tags": []
   },
   "source": [
    "# First query"
   ]
  },
  {
   "cell_type": "markdown",
   "id": "3af42d00",
   "metadata": {},
   "source": [
    "### pandas approach"
   ]
  },
  {
   "cell_type": "code",
   "execution_count": 7,
   "id": "00cc934e",
   "metadata": {
    "tags": []
   },
   "outputs": [],
   "source": [
    "from datetime import datetime\n",
    "YearsOfPosts = Posts['CreationDate'].apply(lambda x: datetime.strptime(x, '%Y-%m-%dT%H:%M:%S.%f').year)\n",
    "YearsOfPosts = YearsOfPosts.to_frame()\n",
    "YearsOfPosts['tmp'] = 1\n",
    "result = YearsOfPosts.groupby('CreationDate')['tmp'].sum().reset_index()\n",
    "result.columns = ['Year', 'TotalNumber']\n",
    "resultPandas1=result"
   ]
  },
  {
   "cell_type": "markdown",
   "id": "faaaa2b0",
   "metadata": {},
   "source": [
    "### SQL approach"
   ]
  },
  {
   "cell_type": "code",
   "execution_count": 8,
   "id": "11e30183-990f-44f2-8269-7b82e43cd817",
   "metadata": {
    "tags": []
   },
   "outputs": [],
   "source": [
    "resultSQL1 = pd.read_sql_query(\"\"\"SELECT STRFTIME('%Y', CreationDate) AS Year, COUNT(*) AS TotalNumber\n",
    "FROM Posts\n",
    "GROUP BY Year\"\"\", conn)\n",
    "resultSQL1['Year'] = resultSQL1['Year'].astype(int) # changing type to enable comparing"
   ]
  },
  {
   "cell_type": "markdown",
   "id": "f1786ea1",
   "metadata": {},
   "source": [
    "### Results comparision"
   ]
  },
  {
   "cell_type": "code",
   "execution_count": 9,
   "id": "d49a6388",
   "metadata": {},
   "outputs": [
    {
     "name": "stdout",
     "output_type": "stream",
     "text": [
      "True\n"
     ]
    }
   ],
   "source": [
    "print(my_equals(resultPandas1, resultSQL1))"
   ]
  },
  {
   "cell_type": "markdown",
   "id": "240cb3b0-ebca-4e71-b8a8-4b6e41e48707",
   "metadata": {
    "tags": []
   },
   "source": [
    "# Second query"
   ]
  },
  {
   "cell_type": "markdown",
   "id": "670576e3",
   "metadata": {},
   "source": [
    "### pandas approach"
   ]
  },
  {
   "cell_type": "code",
   "execution_count": 10,
   "id": "04254215-f626-4721-9986-684b99da14f2",
   "metadata": {
    "tags": []
   },
   "outputs": [],
   "source": [
    "questions = Posts[Posts['PostTypeId']==1].groupby('OwnerUserId')['ViewCount'].sum().reset_index()\n",
    "questions.columns = ['OwnerUserId', 'TotalViews']\n",
    "result = pd.merge(questions, Users, left_on='OwnerUserId', right_on='Id')\n",
    "result = result[['Id', 'DisplayName', 'TotalViews']]\n",
    "resultPandas2 = result.sort_values('TotalViews', ascending=False).head(10)"
   ]
  },
  {
   "cell_type": "markdown",
   "id": "ed5c233f",
   "metadata": {},
   "source": [
    "### SQL approach"
   ]
  },
  {
   "cell_type": "code",
   "execution_count": 11,
   "id": "cda51a2a-db78-4ccd-b727-6e364baac6ec",
   "metadata": {
    "tags": []
   },
   "outputs": [],
   "source": [
    "resultSQL2 = pd.read_sql_query(\"\"\"SELECT Id, DisplayName, TotalViews\n",
    "FROM (\n",
    "SELECT OwnerUserId, SUM(ViewCount) as TotalViews\n",
    "FROM Posts\n",
    "WHERE PostTypeId = 1\n",
    "GROUP BY OwnerUserId\n",
    ") AS Questions\n",
    "JOIN Users\n",
    "ON Users.Id = Questions.OwnerUserId\n",
    "ORDER BY TotalViews DESC\n",
    "LIMIT 10\"\"\", conn)"
   ]
  },
  {
   "cell_type": "markdown",
   "id": "dbd9cbd6",
   "metadata": {},
   "source": [
    "### Results comparision"
   ]
  },
  {
   "cell_type": "code",
   "execution_count": 12,
   "id": "dcbb5f16",
   "metadata": {},
   "outputs": [
    {
     "name": "stdout",
     "output_type": "stream",
     "text": [
      "True\n"
     ]
    }
   ],
   "source": [
    "print(my_equals(resultPandas2, resultSQL2))"
   ]
  },
  {
   "cell_type": "markdown",
   "id": "a375ba25-22f9-4ab3-a9f6-d572181f5ab4",
   "metadata": {
    "tags": []
   },
   "source": [
    "# Third query"
   ]
  },
  {
   "cell_type": "markdown",
   "id": "bd834fb2",
   "metadata": {},
   "source": [
    "### pandas approach"
   ]
  },
  {
   "cell_type": "code",
   "execution_count": 13,
   "id": "b92d9ba8-4582-42d2-bee2-74e17ea1ecc3",
   "metadata": {
    "tags": []
   },
   "outputs": [],
   "source": [
    "questions = Posts[Posts['PostTypeId'] == 1].groupby('OwnerUserId').size().reset_index(name='QuestionsNumber')\n",
    "answers = Posts[Posts['PostTypeId'] == 2].groupby('OwnerUserId').size().reset_index(name='AnswersNumber')\n",
    "result = pd.merge(questions, answers, on='OwnerUserId')\n",
    "result = result[result['AnswersNumber'] > result['QuestionsNumber']]\n",
    "result = pd.merge(result, Users, left_on='OwnerUserId', right_on='Id')\n",
    "result = result[['DisplayName', 'QuestionsNumber', 'AnswersNumber', 'Location', 'Reputation', 'UpVotes',\n",
    "                 'DownVotes']].sort_values('AnswersNumber', ascending=False).head(5)\n",
    "result['Location'] = result['Location'].fillna('None')\n",
    "resultPandas3 = result\n",
    "resultPandas3['Location'] = resultPandas3['Location'].astype(str)"
   ]
  },
  {
   "cell_type": "markdown",
   "id": "032b5073",
   "metadata": {},
   "source": [
    "### SQL approach"
   ]
  },
  {
   "cell_type": "code",
   "execution_count": 14,
   "id": "2f04227d-cb42-45d8-8c69-adcadbe500a6",
   "metadata": {},
   "outputs": [],
   "source": [
    "resultSQL3 = pd.read_sql_query(\"\"\"SELECT DisplayName, QuestionsNumber, AnswersNumber,\n",
    "Location,\n",
    "Reputation, UpVotes, DownVotes\n",
    "FROM (\n",
    "SELECT *\n",
    "FROM (\n",
    "SELECT COUNT(*) as AnswersNumber, OwnerUserId\n",
    "FROM Posts\n",
    "WHERE PostTypeId = 2\n",
    "GROUP BY OwnerUserId\n",
    ") AS Answers\n",
    "JOIN\n",
    "(\n",
    "SELECT COUNT(*) as QuestionsNumber, OwnerUserId\n",
    "FROM Posts\n",
    "WHERE PostTypeId = 1\n",
    "GROUP BY OwnerUserId\n",
    ") AS Questions\n",
    "ON Answers.OwnerUserId = Questions.OwnerUserId\n",
    "WHERE AnswersNumber > QuestionsNumber\n",
    "ORDER BY AnswersNumber DESC\n",
    "LIMIT 5\n",
    ") AS PostsCounts\n",
    "JOIN Users\n",
    "ON PostsCounts.OwnerUserId = Users.Id\"\"\", conn)\n",
    "resultSQL3['Location'] = resultSQL3['Location'].astype(str) # changing type to enable comparing"
   ]
  },
  {
   "cell_type": "markdown",
   "id": "70008030",
   "metadata": {},
   "source": [
    "### Results comparision"
   ]
  },
  {
   "cell_type": "code",
   "execution_count": 15,
   "id": "ba3e9811",
   "metadata": {},
   "outputs": [
    {
     "name": "stdout",
     "output_type": "stream",
     "text": [
      "True\n"
     ]
    }
   ],
   "source": [
    "print(my_equals(resultPandas3, resultSQL3))"
   ]
  },
  {
   "cell_type": "markdown",
   "id": "f70c4ae3-4d18-41cc-bea6-9c71659c1f88",
   "metadata": {},
   "source": [
    "# Fourth query"
   ]
  },
  {
   "cell_type": "markdown",
   "id": "619ec95b",
   "metadata": {},
   "source": [
    "### pandas approach"
   ]
  },
  {
   "cell_type": "code",
   "execution_count": null,
   "id": "a002a3a2-e04d-48fc-adef-4d24f4368811",
   "metadata": {
    "tags": []
   },
   "outputs": [],
   "source": [
    "CmtTotScr = Comments.groupby('PostId')['Score'].sum().reset_index(name='CommentsTotalScore')\n",
    "questions = Posts[Posts['PostTypeId'] == 1]\n",
    "questions_with_comments = pd.merge(questions, CmtTotScr, left_on='Id', right_on='PostId')\n",
    "result = pd.merge(questions_with_comments, Users, left_on='OwnerUserId', right_on='Id')\n",
    "result = result[['Title', 'CommentCount', 'ViewCount', 'CommentsTotalScore', 'DisplayName', 'Reputation', 'Location']]\n",
    "result = result.sort_values('CommentsTotalScore', ascending=False).head(10)\n",
    "resultPandas4 = result\n",
    "resultPandas4['Location'] = resultPandas4['Location'].fillna('None')\n",
    "resultPandas4['Location'] = resultPandas4['Location'].astype(str)"
   ]
  },
  {
   "cell_type": "markdown",
   "id": "094c5b9b",
   "metadata": {},
   "source": [
    "### SQL approach"
   ]
  },
  {
   "cell_type": "code",
   "execution_count": null,
   "id": "49547bec-ae85-414e-b9bc-fbfcc02ca79e",
   "metadata": {},
   "outputs": [],
   "source": [
    "resultSQL4 = pd.read_sql_query(\"\"\"SELECT Title, CommentCount, ViewCount, CommentsTotalScore,\n",
    "DisplayName, Reputation, Location\n",
    "FROM (\n",
    "SELECT Posts.OwnerUserId, Posts.Title, Posts.CommentCount, Posts.ViewCount,\n",
    "CmtTotScr.CommentsTotalScore\n",
    "FROM (\n",
    "SELECT PostId, SUM(Score) AS CommentsTotalScore\n",
    "FROM Comments\n",
    "GROUP BY PostId\n",
    ") AS CmtTotScr\n",
    "JOIN Posts ON Posts.Id = CmtTotScr.PostId\n",
    "WHERE Posts.PostTypeId=1\n",
    ") AS PostsBestComments\n",
    "JOIN Users ON PostsBestComments.OwnerUserId = Users.Id\n",
    "ORDER BY CommentsTotalScore DESC\n",
    "LIMIT 10\"\"\", conn)\n",
    "resultSQL4['Location'] = resultSQL4['Location'].astype(str) # changing type to enable comparing"
   ]
  },
  {
   "cell_type": "markdown",
   "id": "a1112ff0",
   "metadata": {},
   "source": [
    "### Results comparision"
   ]
  },
  {
   "cell_type": "code",
   "execution_count": null,
   "id": "403618e2",
   "metadata": {},
   "outputs": [],
   "source": [
    "print(my_equals(resultPandas4, resultSQL4))"
   ]
  },
  {
   "cell_type": "markdown",
   "id": "8b8977a1-48e2-42f7-b631-47a1518ed3c3",
   "metadata": {},
   "source": [
    "# Fifth query"
   ]
  },
  {
   "cell_type": "markdown",
   "id": "3723160c",
   "metadata": {},
   "source": [
    "### pandas approach"
   ]
  },
  {
   "cell_type": "code",
   "execution_count": null,
   "id": "904b0c16-1b5c-44d5-9497-fcea2cd463c5",
   "metadata": {
    "tags": []
   },
   "outputs": [],
   "source": [
    "from datetime import datetime\n",
    "Badges['Year'] = Badges['Date'].apply(lambda x: datetime.strptime(x, '%Y-%m-%dT%H:%M:%S.%f').year)\n",
    "badges_by_year_name = Badges.groupby([\"Year\", \"Name\"])[\"Name\"].count().reset_index(name=\"Count\")\n",
    "badges_yearly_total = Badges.groupby(\"Year\")[\"Name\"].count().reset_index(name=\"CountTotal\")\n",
    "badges_merged = badges_by_year_name.merge(badges_yearly_total, on=\"Year\")\n",
    "badges_merged[\"MaxPercentage\"] = badges_merged[\"Count\"] / badges_merged[\"CountTotal\"]\n",
    "filt = badges_merged.groupby('Year')['MaxPercentage'].idxmax()\n",
    "badges_result = badges_merged.loc[filt, ['Year', 'Name', 'MaxPercentage']]\n",
    "resultPandas5 = badges_result"
   ]
  },
  {
   "cell_type": "markdown",
   "id": "b769aa99",
   "metadata": {},
   "source": [
    "### SQL approach"
   ]
  },
  {
   "cell_type": "code",
   "execution_count": null,
   "id": "4aa2e7ba-8125-45e7-a12b-11e98c83e626",
   "metadata": {
    "tags": []
   },
   "outputs": [],
   "source": [
    "resultSQL5 = pd.read_sql_query(\"\"\"SELECT Year, Name, MAX((Count * 1.0) / CountTotal) AS MaxPercentage\n",
    "FROM (\n",
    "SELECT BadgesNames.Year, BadgesNames.Name, BadgesNames.Count, BadgesYearly.CountTotal\n",
    "FROM (\n",
    "SELECT Name, COUNT(*) AS Count, STRFTIME('%Y', Badges.Date) AS Year\n",
    "FROM Badges\n",
    "GROUP BY Name, Year\n",
    ") AS BadgesNames\n",
    "JOIN (\n",
    "SELECT COUNT(*) AS CountTotal, STRFTIME('%Y', Badges.Date) AS Year\n",
    "FROM Badges\n",
    "GROUP BY YEAR\n",
    ") AS BadgesYearly\n",
    "ON BadgesNames.Year = BadgesYearly.Year\n",
    ")\n",
    "GROUP BY Year\"\"\", conn)\n",
    "resultSQL5['Year'] = resultSQL5['Year'].astype(int) # changing type to enable comparing"
   ]
  },
  {
   "cell_type": "markdown",
   "id": "a59a83fb",
   "metadata": {},
   "source": [
    "### Results comparision"
   ]
  },
  {
   "cell_type": "code",
   "execution_count": null,
   "id": "0110e033",
   "metadata": {
    "tags": []
   },
   "outputs": [],
   "source": [
    "print(my_equals(resultPandas5, resultSQL5))"
   ]
  },
  {
   "cell_type": "code",
   "execution_count": null,
   "id": "ff7c37da-4bdc-47cc-aa95-4845fa165928",
   "metadata": {
    "tags": []
   },
   "outputs": [],
   "source": [
    "conn.close()"
   ]
  }
 ],
 "metadata": {
  "kernelspec": {
   "display_name": "Python 3 (ipykernel)",
   "language": "python",
   "name": "python3"
  },
  "language_info": {
   "codemirror_mode": {
    "name": "ipython",
    "version": 3
   },
   "file_extension": ".py",
   "mimetype": "text/x-python",
   "name": "python",
   "nbconvert_exporter": "python",
   "pygments_lexer": "ipython3",
   "version": "3.8.16"
  }
 },
 "nbformat": 4,
 "nbformat_minor": 5
}
